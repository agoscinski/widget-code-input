{
 "cells": [
  {
   "cell_type": "code",
   "execution_count": 1,
   "metadata": {},
   "outputs": [],
   "source": [
    "from widget_code_input import WidgetCodeInput\n",
    "from IPython.display import display, Markdown\n",
    "from ipywidgets import Label, Button, Output, Layout"
   ]
  },
  {
   "cell_type": "code",
   "execution_count": 2,
   "metadata": {},
   "outputs": [
    {
     "data": {
      "application/vnd.jupyter.widget-view+json": {
       "model_id": "2c3091cf07b04074a76e6049f6ad6791",
       "version_major": 2,
       "version_minor": 0
      },
      "text/plain": [
       "WidgetCodeInput(function_name='is_even', function_parameters='number')"
      ]
     },
     "metadata": {},
     "output_type": "display_data"
    }
   ],
   "source": [
    "widget = WidgetCodeInput(function_name=\"is_even\", function_parameters=\"number\")\n",
    "display(widget)"
   ]
  },
  {
   "cell_type": "code",
   "execution_count": 3,
   "metadata": {},
   "outputs": [],
   "source": [
    "widget.function_body = 'if number % 2:\\n    return False\\nreturn True'"
   ]
  },
  {
   "cell_type": "code",
   "execution_count": 4,
   "metadata": {},
   "outputs": [
    {
     "data": {
      "application/vnd.jupyter.widget-view+json": {
       "model_id": "d96cc93702304310a94909e536970f5d",
       "version_major": 2,
       "version_minor": 0
      },
      "text/plain": [
       "Output()"
      ]
     },
     "metadata": {},
     "output_type": "display_data"
    }
   ],
   "source": [
    "content=Output()\n",
    "display(content)\n",
    "with content:\n",
    "    display(Markdown('Reprinting here below the function body:\\n\\n```python\\n{}\\n```'.format(widget.full_function_code)))\n",
    "\n",
    "def update_label(event):\n",
    "    global content, widget\n",
    "    if event['type'] == 'change':# and event['name'] == 'function_body': # Removed this part because also e.g. the docstring could change\n",
    "        content.clear_output(wait=True) # wait=True prevents flickering\n",
    "        with content:\n",
    "            #display(Markdown('Reprinting here below the function body:\\n\\n```python\\n{}\\n```'.format(event['new'])))\n",
    "            display(Markdown('Reprinting here below the function body:\\n\\n```python\\n{}\\n```'.format(widget.full_function_code)))\n",
    "    \n",
    "widget.observe(update_label)"
   ]
  },
  {
   "cell_type": "code",
   "execution_count": 5,
   "metadata": {},
   "outputs": [
    {
     "data": {
      "application/vnd.jupyter.widget-view+json": {
       "model_id": "3eecdc05d09d4f8fbe5216e34aabbb24",
       "version_major": 2,
       "version_minor": 0
      },
      "text/plain": [
       "Button(description='Check function results', layout=Layout(width='300px'), style=ButtonStyle())"
      ]
     },
     "metadata": {},
     "output_type": "display_data"
    },
    {
     "data": {
      "application/vnd.jupyter.widget-view+json": {
       "model_id": "807177d37f9c462c82c84c91188b4b45",
       "version_major": 2,
       "version_minor": 0
      },
      "text/plain": [
       "Output()"
      ]
     },
     "metadata": {},
     "output_type": "display_data"
    }
   ],
   "source": [
    "check_function_output = Output()\n",
    "\n",
    "def check_function(clicked_widget):\n",
    "    global widget\n",
    "    check_function_output.clear_output(wait=True)\n",
    "    with check_function_output:\n",
    "        user_function = widget.get_function_object() # This could raise\n",
    "        for i in range(7):\n",
    "            print(\"Is {} even? {}\".format(i, user_function(i)))\n",
    "\n",
    "button = Button(description=\"Check function results\", layout=Layout(width='300px'))\n",
    "button.on_click(check_function)\n",
    "\n",
    "display(button)\n",
    "display(check_function_output)"
   ]
  },
  {
   "cell_type": "markdown",
   "metadata": {},
   "source": [
    "<hr>"
   ]
  },
  {
   "cell_type": "code",
   "execution_count": 6,
   "metadata": {},
   "outputs": [
    {
     "data": {
      "application/vnd.jupyter.widget-view+json": {
       "model_id": "7ed88ac5948348c0aac458d2dd389b32",
       "version_major": 2,
       "version_minor": 0
      },
      "text/plain": [
       "WidgetCodeInput(function_name='some_function', function_parameters=\"name='example', value\")"
      ]
     },
     "metadata": {},
     "output_type": "display_data"
    }
   ],
   "source": [
    "widget2 = WidgetCodeInput(function_name='some_function', function_parameters=\"name='example', value\")\n",
    "display(widget2)"
   ]
  },
  {
   "cell_type": "code",
   "execution_count": 7,
   "metadata": {},
   "outputs": [
    {
     "data": {
      "application/vnd.jupyter.widget-view+json": {
       "model_id": "7a3cecd48b9540b290939edbff972180",
       "version_major": 2,
       "version_minor": 0
      },
      "text/plain": [
       "Output()"
      ]
     },
     "metadata": {},
     "output_type": "display_data"
    }
   ],
   "source": [
    "content2=Output()\n",
    "display(content2)\n",
    "with content2:\n",
    "    display(Markdown('Reprinting here below the function body:\\n\\n```python\\n{}\\n```'.format(widget2.full_function_code)))\n",
    "\n",
    "def update_label2(event):\n",
    "    global content2, widget2\n",
    "    if event['type'] == 'change':# and event['name'] == 'function_body': # Removed this part because also e.g. the docstring could change\n",
    "        content2.clear_output(wait=True) # wait=True prevents flickering\n",
    "        with content2:\n",
    "            #display(Markdown('Reprinting here below the function body:\\n\\n```python\\n{}\\n```'.format(event['new'])))\n",
    "            display(Markdown('Reprinting here below the function body:\\n\\n```python\\n{}\\n```'.format(widget2.full_function_code)))\n",
    "    \n",
    "widget2.observe(update_label2)"
   ]
  },
  {
   "cell_type": "code",
   "execution_count": 8,
   "metadata": {},
   "outputs": [
    {
     "data": {
      "application/vnd.jupyter.widget-view+json": {
       "model_id": "24a2acfa939542b9aeee36267dc70b94",
       "version_major": 2,
       "version_minor": 0
      },
      "text/plain": [
       "Button(description='Toggle function name', style=ButtonStyle())"
      ]
     },
     "metadata": {},
     "output_type": "display_data"
    },
    {
     "data": {
      "application/vnd.jupyter.widget-view+json": {
       "model_id": "ffe8d60f693946029a4ba32c60cc5dfc",
       "version_major": 2,
       "version_minor": 0
      },
      "text/plain": [
       "Button(description='Toggle docstring', style=ButtonStyle())"
      ]
     },
     "metadata": {},
     "output_type": "display_data"
    }
   ],
   "source": [
    "current_function_name_idx = 0\n",
    "current_docstring_idx = 0\n",
    "\n",
    "def toggle_function_name(clicked_widget):\n",
    "    global widget2, current_function_name_idx\n",
    "    values = [\"some_function\", \"another_function_name\"]\n",
    "    current_function_name_idx += 1\n",
    "    current_function_name_idx %= len(values)\n",
    "    widget2.function_name = values[current_function_name_idx]\n",
    "\n",
    "def toggle_docstring(clicked_widget):\n",
    "    global widget2, current_docstring_idx\n",
    "    values = [\n",
    "        \"\",\n",
    "        \"\"\"\n",
    "This function does something.\n",
    "\n",
    ":param name: The name of the object\n",
    ":param value: The (integer) value of the object\n",
    "\"\"\"]\n",
    "    current_docstring_idx += 1\n",
    "    current_docstring_idx %= len(values)\n",
    "    widget2.docstring = values[current_docstring_idx]\n",
    "    \n",
    "button_fname = Button(description=\"Toggle function name\")\n",
    "button_fname.on_click(toggle_function_name)\n",
    "\n",
    "button_docs = Button(description=\"Toggle docstring\")\n",
    "button_docs.on_click(toggle_docstring)\n",
    "\n",
    "display(button_fname)\n",
    "display(button_docs)"
   ]
  }
 ],
 "metadata": {
  "kernelspec": {
   "display_name": "Python 3",
   "language": "python",
   "name": "python3"
  },
  "language_info": {
   "codemirror_mode": {
    "name": "ipython",
    "version": 3
   },
   "file_extension": ".py",
   "mimetype": "text/x-python",
   "name": "python",
   "nbconvert_exporter": "python",
   "pygments_lexer": "ipython3",
   "version": "3.8.2"
  }
 },
 "nbformat": 4,
 "nbformat_minor": 4
}
