{
 "cells": [
  {
   "cell_type": "markdown",
   "metadata": {},
   "source": [
    "# widget-code-input demos\n",
    "\n",
    "You can visualize here a few demos of the `widget-code-input` widget for Jupyter, a widget that allows you to write snippets of code in the form of a function, and then test them.\n",
    "\n",
    "This widget is best used in combination with the [appmode](https://pypi.org/project/appmode/) plugin for Jupyter.\n",
    "\n",
    "Click on the headers to go to the respective demo."
   ]
  },
  {
   "cell_type": "markdown",
   "metadata": {},
   "source": [
    "## [Simple showcase](./showcase.ipynb)\n",
    "This demo is a simple showcase of the functionality of this widget.\n",
    "It shows:\n",
    "\n",
    "- how to use the widget\n",
    "- how to get and set the content of the function body from python\n",
    "- how to monitor events from python (e.g. perform on operation in python every time the code is changed by the user)\n",
    "- that it is possible in insert multiple, independent widgets in the same notebook\n",
    "- how to obtain the function object from the widget and how to run it"
   ]
  },
  {
   "cell_type": "markdown",
   "metadata": {},
   "source": [
    "## [Exercise: compute the point at which a projectile would hit the ground](./projectile.ipynb)\n",
    "This demo shows a possible exercise for students: given the initial parameters of a projectile (height of launch, velocity), ask the student to write the function to compute the position where the projectile will hit the ground."
   ]
  },
  {
   "cell_type": "code",
   "execution_count": null,
   "metadata": {},
   "outputs": [],
   "source": []
  }
 ],
 "metadata": {
  "kernelspec": {
   "display_name": "Python 2",
   "language": "python",
   "name": "python2"
  },
  "language_info": {
   "codemirror_mode": {
    "name": "ipython",
    "version": 3
   },
   "file_extension": ".py",
   "mimetype": "text/x-python",
   "name": "python",
   "nbconvert_exporter": "python",
   "pygments_lexer": "ipython3",
   "version": "3.6.5"
  }
 },
 "nbformat": 4,
 "nbformat_minor": 2
}
