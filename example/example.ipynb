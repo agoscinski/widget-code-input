{
 "cells": [
  {
   "cell_type": "code",
   "execution_count": 1,
   "id": "5df2c405",
   "metadata": {},
   "outputs": [],
   "source": [
    "from widget_code_input import WidgetCodeInput\n",
    "# import importlib\n",
    "# importlib.reload(code_input_widget)\n",
    "\n",
    "w = WidgetCodeInput(\n",
    "   function_name = \"my_function\",\n",
    "   function_parameters = \"a, b\",\n",
    "   docstring=\"\"\"\n",
    "   Input docstring here.\n",
    "\"\"\",\n",
    "   function_body=\"# Give information for the function\\nreturn a+b\",\n",
    "    code_theme=\"basicLight\"\n",
    ")\n",
    "\n"
   ]
  },
  {
   "cell_type": "code",
   "execution_count": 2,
   "id": "e74c9c9e",
   "metadata": {},
   "outputs": [
    {
     "data": {
      "application/vnd.jupyter.widget-view+json": {
       "model_id": "80b8268cbfe0416494f266f6f8a19aa1",
       "version_major": 2,
       "version_minor": 1
      },
      "text/plain": [
       "WidgetCodeInput(code_theme='basicLight', docstring='\\n   Input docstring here.\\n', function_body='# Give infor…"
      ]
     },
     "execution_count": 2,
     "metadata": {},
     "output_type": "execute_result"
    }
   ],
   "source": [
    "w"
   ]
  },
  {
   "cell_type": "code",
   "execution_count": 3,
   "id": "4d389a14",
   "metadata": {},
   "outputs": [],
   "source": [
    "my_function = w.get_function_object()"
   ]
  },
  {
   "cell_type": "code",
   "execution_count": 4,
   "id": "2fc2b3ed",
   "metadata": {},
   "outputs": [
    {
     "data": {
      "text/plain": [
       "3"
      ]
     },
     "execution_count": 4,
     "metadata": {},
     "output_type": "execute_result"
    }
   ],
   "source": [
    "my_function(1, 2)"
   ]
  },
  {
   "cell_type": "code",
   "execution_count": 5,
   "id": "e90010bd",
   "metadata": {},
   "outputs": [],
   "source": [
    "w.code_theme=\"solarizedLight\""
   ]
  },
  {
   "cell_type": "code",
   "execution_count": 6,
   "id": "75900629",
   "metadata": {},
   "outputs": [
    {
     "data": {
      "application/vnd.jupyter.widget-view+json": {
       "model_id": "9238263cacc04a728e878c13d8fac749",
       "version_major": 2,
       "version_minor": 1
      },
      "text/plain": [
       "WidgetCodeInput(code_theme='basicLight', docstring='\\n   Input docstring here.\\n', function_body='# Give infor…"
      ]
     },
     "execution_count": 6,
     "metadata": {},
     "output_type": "execute_result"
    }
   ],
   "source": [
    "w2 = WidgetCodeInput(\n",
    "   function_name = \"my_function\",\n",
    "   function_parameters = \"a, b, c\",\n",
    "   docstring=\"\"\"\n",
    "   Input docstring here.\n",
    "\"\"\",\n",
    "   function_body=\"# Give information for the function\\nreturn a+b+c\",\n",
    "    code_theme=\"basicLight\"\n",
    ")\n",
    "w2"
   ]
  }
 ],
 "metadata": {
  "kernelspec": {
   "display_name": "Python 3 (ipykernel)",
   "language": "python",
   "name": "python3"
  },
  "language_info": {
   "codemirror_mode": {
    "name": "ipython",
    "version": 3
   },
   "file_extension": ".py",
   "mimetype": "text/x-python",
   "name": "python",
   "nbconvert_exporter": "python",
   "pygments_lexer": "ipython3",
   "version": "3.10.12"
  }
 },
 "nbformat": 4,
 "nbformat_minor": 5
}
