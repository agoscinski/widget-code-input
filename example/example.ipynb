{
 "cells": [
  {
   "cell_type": "code",
   "execution_count": 78,
   "id": "5df2c405",
   "metadata": {},
   "outputs": [],
   "source": [
    "from widget_code_input import CodeInputWidget\n",
    "# import importlib\n",
    "# importlib.reload(code_input_widget)\n",
    "\n",
    "w = CodeInputWidget(\n",
    "   function_name = \"my_function\",\n",
    "   function_parameters = \"a, b\",\n",
    "   docstring=\"\"\"\n",
    "   Input docstring here.\n",
    "\"\"\",\n",
    "   function_body=\"# Give information for the function\\nreturn a+b\",\n",
    "    code_theme=\"basicLight\"\n",
    ")\n",
    "\n"
   ]
  },
  {
   "cell_type": "code",
   "execution_count": 79,
   "id": "e74c9c9e",
   "metadata": {},
   "outputs": [
    {
     "data": {
      "application/vnd.jupyter.widget-view+json": {
       "model_id": "f0db00d571a747f2ae74b66557f21acd",
       "version_major": 2,
       "version_minor": 1
      },
      "text/plain": [
       "CodeInputWidget(code_theme='basicLight', docstring='\\n   Input docstring here.\\n', function_body='# Give infor…"
      ]
     },
     "execution_count": 79,
     "metadata": {},
     "output_type": "execute_result"
    }
   ],
   "source": [
    "w"
   ]
  },
  {
   "cell_type": "code",
   "execution_count": 80,
   "id": "4d389a14",
   "metadata": {},
   "outputs": [],
   "source": [
    "my_function = w.get_function_object()"
   ]
  },
  {
   "cell_type": "code",
   "execution_count": 81,
   "id": "2fc2b3ed",
   "metadata": {},
   "outputs": [
    {
     "data": {
      "text/plain": [
       "3"
      ]
     },
     "execution_count": 81,
     "metadata": {},
     "output_type": "execute_result"
    }
   ],
   "source": [
    "my_function(1, 2)"
   ]
  },
  {
   "cell_type": "code",
   "execution_count": 82,
   "id": "601edb7d",
   "metadata": {},
   "outputs": [],
   "source": [
    "w.code_theme=\"nord\""
   ]
  },
  {
   "cell_type": "code",
   "execution_count": 83,
   "id": "e90010bd",
   "metadata": {},
   "outputs": [],
   "source": [
    "w.code_theme=\"solarizedLight\""
   ]
  },
  {
   "cell_type": "code",
   "execution_count": 84,
   "id": "75900629",
   "metadata": {},
   "outputs": [
    {
     "data": {
      "application/vnd.jupyter.widget-view+json": {
       "model_id": "81302242542b4e30a4cfc301389f6278",
       "version_major": 2,
       "version_minor": 1
      },
      "text/plain": [
       "CodeInputWidget(code_theme='basicLight', docstring='\\n   Input docstring here.\\n', function_body='# Give infor…"
      ]
     },
     "execution_count": 84,
     "metadata": {},
     "output_type": "execute_result"
    }
   ],
   "source": [
    "w2 = CodeInputWidget(\n",
    "   function_name = \"my_function\",\n",
    "   function_parameters = \"a, b, c\",\n",
    "   docstring=\"\"\"\n",
    "   Input docstring here.\n",
    "\"\"\",\n",
    "   function_body=\"# Give information for the function\\nreturn a+b+c\",\n",
    "    code_theme=\"basicLight\"\n",
    ")\n",
    "w2"
   ]
  }
 ],
 "metadata": {
  "kernelspec": {
   "display_name": "Python 3 (ipykernel)",
   "language": "python",
   "name": "python3"
  },
  "language_info": {
   "codemirror_mode": {
    "name": "ipython",
    "version": 3
   },
   "file_extension": ".py",
   "mimetype": "text/x-python",
   "name": "python",
   "nbconvert_exporter": "python",
   "pygments_lexer": "ipython3",
   "version": "3.11.7"
  }
 },
 "nbformat": 4,
 "nbformat_minor": 5
}
