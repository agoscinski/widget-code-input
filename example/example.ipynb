{
 "cells": [
  {
   "cell_type": "code",
   "execution_count": null,
   "id": "5df2c405",
   "metadata": {},
   "outputs": [],
   "source": [
    "from widget_code_input import CodeInputWidget\n",
    "# import importlib\n",
    "# importlib.reload(code_input_widget)\n",
    "\n",
    "w = CodeInputWidget(\n",
    "   function_name = \"my_function\",\n",
    "   function_parameters = \"a, b\",\n",
    "   docstring=\"\"\"\n",
    "   Input docstring here.\n",
    "\"\"\",\n",
    "   function_body=\"# Give information for the function\\nreturn a+b\",\n",
    "    code_theme=\"basicLight\"\n",
    ")\n",
    "\n"
   ]
  },
  {
   "cell_type": "code",
   "execution_count": null,
   "id": "e74c9c9e",
   "metadata": {},
   "outputs": [],
   "source": [
    "w"
   ]
  },
  {
   "cell_type": "code",
   "execution_count": null,
   "id": "4d389a14",
   "metadata": {},
   "outputs": [],
   "source": [
    "my_function = w.get_function_object()"
   ]
  },
  {
   "cell_type": "code",
   "execution_count": null,
   "id": "2fc2b3ed",
   "metadata": {},
   "outputs": [],
   "source": [
    "my_function(1, 2)"
   ]
  },
  {
   "cell_type": "code",
   "execution_count": null,
   "id": "601edb7d",
   "metadata": {},
   "outputs": [],
   "source": [
    "w.code_theme=\"nord\""
   ]
  },
  {
   "cell_type": "code",
   "execution_count": null,
   "id": "e90010bd",
   "metadata": {},
   "outputs": [],
   "source": [
    "w.code_theme=\"solarizedLight\""
   ]
  },
  {
   "cell_type": "code",
   "execution_count": null,
   "id": "75900629",
   "metadata": {},
   "outputs": [],
   "source": [
    "w2 = CodeInputWidget(\n",
    "   function_name = \"my_function\",\n",
    "   function_parameters = \"a, b, c\",\n",
    "   docstring=\"\"\"\n",
    "   Input docstring here.\n",
    "\"\"\",\n",
    "   function_body=\"# Give information for the function\\nreturn a+b+c\",\n",
    "    code_theme=\"basicLight\"\n",
    ")\n",
    "w2"
   ]
  }
 ],
 "metadata": {
  "kernelspec": {
   "display_name": "Python 3 (ipykernel)",
   "language": "python",
   "name": "python3"
  },
  "language_info": {
   "codemirror_mode": {
    "name": "ipython",
    "version": 3
   },
   "file_extension": ".py",
   "mimetype": "text/x-python",
   "name": "python",
   "nbconvert_exporter": "python",
   "pygments_lexer": "ipython3",
   "version": "3.11.7"
  }
 },
 "nbformat": 4,
 "nbformat_minor": 5
}
