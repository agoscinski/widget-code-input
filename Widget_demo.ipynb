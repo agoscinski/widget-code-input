{
 "cells": [
  {
   "cell_type": "code",
   "execution_count": 17,
   "id": "5df2c405",
   "metadata": {},
   "outputs": [],
   "source": [
    "import CodeInputWidget as code_input_widget\n",
    "import importlib\n",
    "importlib.reload(code_input_widget)\n",
    "\n",
    "w = code_input_widget.CodeInputWidget(\n",
    "   function_name = \"my_function\",\n",
    "   function_parameters = \"a, b\",\n",
    "   docstring=\"\"\"\n",
    "   Input docstring here.\n",
    "\"\"\",\n",
    "   function_body=\"# Give information for the function\\nreturn a+b\",\n",
    "    code_theme=\"basicLight\"\n",
    ")\n",
    "\n",
    "\n",
    "\n",
    "\n",
    "\n"
   ]
  },
  {
   "cell_type": "code",
   "execution_count": 18,
   "id": "42d89c02",
   "metadata": {},
   "outputs": [
    {
     "data": {
      "application/vnd.jupyter.widget-view+json": {
       "model_id": "088652c1683f49f3bce91608f8eecc12",
       "version_major": 2,
       "version_minor": 0
      },
      "text/plain": [
       "CodeInputWidget(code_theme='basicLight', docstring='\\n   Input docstring here.\\n', function_body='# Give infor…"
      ]
     },
     "metadata": {},
     "output_type": "display_data"
    }
   ],
   "source": [
    "w"
   ]
  },
  {
   "cell_type": "code",
   "execution_count": 19,
   "id": "4d389a14",
   "metadata": {},
   "outputs": [],
   "source": [
    "my_function = w.get_function_object()"
   ]
  },
  {
   "cell_type": "code",
   "execution_count": 20,
   "id": "2fc2b3ed",
   "metadata": {},
   "outputs": [
    {
     "data": {
      "text/plain": [
       "3"
      ]
     },
     "execution_count": 20,
     "metadata": {},
     "output_type": "execute_result"
    }
   ],
   "source": [
    "my_function(1, 2)"
   ]
  },
  {
   "cell_type": "code",
   "execution_count": 21,
   "id": "601edb7d",
   "metadata": {},
   "outputs": [],
   "source": [
    "w.code_theme=\"nord\""
   ]
  },
  {
   "cell_type": "code",
   "execution_count": 22,
   "id": "e90010bd",
   "metadata": {},
   "outputs": [],
   "source": [
    "w.code_theme=\"solarizedLight\""
   ]
  },
  {
   "cell_type": "code",
   "execution_count": 23,
   "id": "75900629",
   "metadata": {},
   "outputs": [
    {
     "data": {
      "application/vnd.jupyter.widget-view+json": {
       "model_id": "dcf6261ec877488ab71a1c94b7b1636e",
       "version_major": 2,
       "version_minor": 0
      },
      "text/plain": [
       "CodeInputWidget(code_theme='basicLight', docstring='\\n   Input docstring here.\\n', function_body='# Give infor…"
      ]
     },
     "metadata": {},
     "output_type": "display_data"
    }
   ],
   "source": [
    "w2 = code_input_widget.CodeInputWidget(\n",
    "   function_name = \"my_function\",\n",
    "   function_parameters = \"a, b, c\",\n",
    "   docstring=\"\"\"\n",
    "   Input docstring here.\n",
    "\"\"\",\n",
    "   function_body=\"# Give information for the function\\nreturn a+b+c\",\n",
    "    code_theme=\"basicLight\"\n",
    ")\n",
    "w2"
   ]
  },
  {
   "cell_type": "code",
   "execution_count": 24,
   "id": "92b77f6a",
   "metadata": {},
   "outputs": [
    {
     "data": {
      "application/vnd.jupyter.widget-view+json": {
       "model_id": "2f9537db5c604d2ab67b3a7538cba66b",
       "version_major": 2,
       "version_minor": 0
      },
      "text/plain": [
       "CodeInputWidget(code_theme='basicLight', docstring='\\n   Input docstring here.\\n', function_body='# Give infor…"
      ]
     },
     "metadata": {},
     "output_type": "display_data"
    }
   ],
   "source": [
    "w3 = code_input_widget.CodeInputWidget(\n",
    "   function_name = \"my_function\",\n",
    "   function_parameters = \"a, b, c\",\n",
    "   docstring=\"\"\"\n",
    "   Input docstring here.\n",
    "\"\"\",\n",
    "   function_body=\"# Give information for the function\\nreturn a+b+c\",\n",
    "    code_theme=\"basicLight\"\n",
    ")\n",
    "w3"
   ]
  }
 ],
 "metadata": {
  "kernelspec": {
   "display_name": "Python 3 (ipykernel)",
   "language": "python",
   "name": "python3"
  },
  "language_info": {
   "codemirror_mode": {
    "name": "ipython",
    "version": 3
   },
   "file_extension": ".py",
   "mimetype": "text/x-python",
   "name": "python",
   "nbconvert_exporter": "python",
   "pygments_lexer": "ipython3",
   "version": "3.10.12"
  }
 },
 "nbformat": 4,
 "nbformat_minor": 5
}
